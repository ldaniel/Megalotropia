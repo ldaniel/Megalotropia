{
  "nbformat": 4,
  "nbformat_minor": 0,
  "metadata": {
    "colab": {
      "name": "Megalotropia-WordCloud.ipynb",
      "provenance": [],
      "collapsed_sections": [],
      "toc_visible": true,
      "authorship_tag": "ABX9TyPRP1oOt3zQ3+zSKsaLb+a2",
      "include_colab_link": true
    },
    "kernelspec": {
      "name": "python3",
      "display_name": "Python 3"
    }
  },
  "cells": [
    {
      "cell_type": "markdown",
      "metadata": {
        "id": "view-in-github",
        "colab_type": "text"
      },
      "source": [
        "<a href=\"https://colab.research.google.com/github/ldaniel/Megalotropia/blob/master/notebooks/Megalotropia-WordCloud.ipynb\" target=\"_parent\"><img src=\"https://colab.research.google.com/assets/colab-badge.svg\" alt=\"Open In Colab\"/></a>"
      ]
    },
    {
      "cell_type": "markdown",
      "metadata": {
        "id": "wVKxLnuxzQ9g",
        "colab_type": "text"
      },
      "source": [
        "# Megalotropia Word Count Analysis\n"
      ]
    },
    {
      "cell_type": "markdown",
      "metadata": {
        "id": "L0LCllFxzi9j",
        "colab_type": "text"
      },
      "source": [
        "## Step 1 - Configuration"
      ]
    },
    {
      "cell_type": "markdown",
      "metadata": {
        "id": "PoE9J6K9zqMB",
        "colab_type": "text"
      },
      "source": [
        "### Loading required basic packages"
      ]
    },
    {
      "cell_type": "code",
      "metadata": {
        "colab_type": "code",
        "id": "eHFdPJrRxTry",
        "colab": {}
      },
      "source": [
        "import numpy as np\n",
        "import pandas as pd"
      ],
      "execution_count": 0,
      "outputs": []
    },
    {
      "cell_type": "markdown",
      "metadata": {
        "id": "byiPVQM6zxQc",
        "colab_type": "text"
      },
      "source": [
        "### Defining imports from packages"
      ]
    },
    {
      "cell_type": "code",
      "metadata": {
        "id": "MsoKZpMwwm2l",
        "colab_type": "code",
        "colab": {}
      },
      "source": [
        "from os import path\n",
        "from pydrive.auth import GoogleAuth\n",
        "from pydrive.drive import GoogleDrive\n",
        "from google.colab import auth\n",
        "from google.colab import files\n",
        "from oauth2client.client import GoogleCredentials"
      ],
      "execution_count": 0,
      "outputs": []
    },
    {
      "cell_type": "markdown",
      "metadata": {
        "id": "OnS4f6zXz3jy",
        "colab_type": "text"
      },
      "source": [
        "## Step 2 - Setting up Google Drive Authentication"
      ]
    },
    {
      "cell_type": "markdown",
      "metadata": {
        "id": "rDmmRroCCVh1",
        "colab_type": "text"
      },
      "source": [
        "### Method 1 - Getting from Google Drive"
      ]
    },
    {
      "cell_type": "markdown",
      "metadata": {
        "id": "vtDwKD3j0GMj",
        "colab_type": "text"
      },
      "source": [
        "#### Getting credentials from Google Drive"
      ]
    },
    {
      "cell_type": "code",
      "metadata": {
        "id": "JeETBXmLwrwo",
        "colab_type": "code",
        "colab": {}
      },
      "source": [
        "auth.authenticate_user()\n",
        "gauth = GoogleAuth()\n",
        "gauth.credentials = GoogleCredentials.get_application_default()\n",
        "drive = GoogleDrive(gauth)"
      ],
      "execution_count": 0,
      "outputs": []
    },
    {
      "cell_type": "markdown",
      "metadata": {
        "id": "Yf3MSpf-0Lul",
        "colab_type": "text"
      },
      "source": [
        "#### Downloading file from Google Drive to Colab"
      ]
    },
    {
      "cell_type": "markdown",
      "metadata": {
        "id": "oefgkps40YsO",
        "colab_type": "text"
      },
      "source": [
        "Before run this step, it's necessary to get the file ID from the shareable link obtained in Google Drive.\n",
        "\n",
        "Alternatively, the file ID can be also obtained from the link. The file ID is alphanumeric characters between /d/ and /view?usp=sharing. For instance, let’s assume the shareable like to the file we want to import is as bellow.\n",
        "\n",
        "https://drive.google.com/open?id=1hO2Xvna8X--LCRDei4iYGtBetzH8lxet"
      ]
    },
    {
      "cell_type": "code",
      "metadata": {
        "id": "bW0pY-PWy9MS",
        "colab_type": "code",
        "colab": {}
      },
      "source": [
        "downloaded = drive.CreateFile({'id':\"1hO2Xvna8X--LCRDei4iYGtBetzH8lxet\"})\n",
        "downloaded.GetContentFile('megalotropia-experiences.txt')\n",
        "\n",
        "downloaded = drive.CreateFile({'id':\"1UP2OTvUK2E7foR59B1Wx5TMKBNnKGrfZ\"})\n",
        "downloaded.GetContentFile('megalotropia-m.png')"
      ],
      "execution_count": 0,
      "outputs": []
    },
    {
      "cell_type": "markdown",
      "metadata": {
        "id": "vKsMU4h-CiCd",
        "colab_type": "text"
      },
      "source": [
        "### Method 2 - Getting from Github"
      ]
    },
    {
      "cell_type": "markdown",
      "metadata": {
        "id": "s9PnM31jCpu7",
        "colab_type": "text"
      },
      "source": [
        "#### Downloading file from Github"
      ]
    },
    {
      "cell_type": "code",
      "metadata": {
        "id": "ti-PQ3c0Ctu0",
        "colab_type": "code",
        "outputId": "9c908f9e-a52c-4f4c-8831-f9cd9754503f",
        "colab": {
          "base_uri": "https://localhost:8080/",
          "height": 178
        }
      },
      "source": [
        "!apt-cache search urllib\n",
        "\n",
        "import urllib\n",
        "\n",
        "with urllib.request.urlopen('https://raw.githubusercontent.com/ldaniel/Megalotropia/master/data/raw/megalotropia-experiences.txt') as response:\n",
        "   data = response.read()\n",
        "\n",
        "data"
      ],
      "execution_count": 29,
      "outputs": [
        {
          "output_type": "stream",
          "text": [
            "python-urllib3 - HTTP library with thread-safe connection pooling for Python\n",
            "python3-urllib3 - HTTP library with thread-safe connection pooling for Python3\n",
            "python-keepalive - urllib keepalive support for Python 2\n",
            "python-multipartposthandler - handler for urllib2 to enable multipart form uploading\n",
            "python-ndg-httpsclient - enhanced HTTPS support for httplib and urllib2 using PyOpenSSL for Python2\n",
            "python3-keepalive - urllib keepalive support for Python 3\n",
            "python3-ndg-httpsclient - enhanced HTTPS support for httplib and urllib2 using PyOpenSSL for Python3\n"
          ],
          "name": "stdout"
        },
        {
          "output_type": "execute_result",
          "data": {
            "text/plain": [
              "b'\\nA gente passa...\\n\\n\\xe2\\x80\\x9cA gente passa nesta vida como canoa em \\xc3\\xa1gua funda.\\n\\nPassa. A \\xc3\\xa1gua bole um pouco. E depois n\\xc3\\xa3o fica nada.\\xe2\\x80\\x9d\\n\\xe2\\x80\\x94 Ruth Guimar\\xc3\\xa3es\\nA gente passa\\xe2\\x80\\xa6\\n\\nVou em dire\\xc3\\xa7\\xc3\\xa3o ao centro da cidade de S\\xc3\\xa3o Paulo e encontro a Pra\\xc3\\xa7a Ramos. L\\xc3\\xa1 esta o CRD, Centro de Refer\\xc3\\xaancia da Dan\\xc3\\xa7a, da Prefeitura de S\\xc3\\xa3o Paulo. Uma das alunas me convidou para acompanhar uma interven\\xc3\\xa7\\xc3\\xa3o  urbana, realizada numa quinta-feira, 7 de junho de 2018, no hor\\xc3\\xa1rio do curso, \\xc3\\xa0s 14h30.\\n\\nEntro no CRD. Dois gatos me recebem na porta carinhosamente.\\n\\nEncontro quem me apresenta o lugar e algumas pessoas. Esta pessoa se retira. Sai com alguns companheiros. Fico s\\xc3\\xb3 sem pensamentos. Minha vis\\xc3\\xa3o algo turva desliza com cuidados e, do lado de dentro, observa o lado de fora. L\\xc3\\xa1 est\\xc3\\xa3o eles, embaixo de umas \\xc3\\xa1rvores e coqueiros altos. Estamos na Pra\\xc3\\xa7a Ramos, hoje recuperada. Esse logradouro est\\xc3\\xa1 em um bairro bem antigo de S\\xc3\\xa3o Paulo, chamado Rep\\xc3\\xbablica, sob o viaduto do Ch\\xc3\\xa1, pr\\xc3\\xb3ximo ao Teatro Municipal.\\n\\nO grupo volta a entrar e volta a sair do CRD, creio que n\\xc3\\xa3o est\\xc3\\xa3o nem fora nem dentro, mas, quando h\\xc3\\xa1 portas, devemos admitir que algo se fecha e algo se abre, tamb\\xc3\\xa9m dentro de n\\xc3\\xb3s. Continuam se preparando para seus trabalhos art\\xc3\\xadsticos.\\n\\nSubiram para o Viaduto do Ch\\xc3\\xa1. Param, assim como uma pomba, que observa detalhes da Pra\\xc3\\xa7a Ramos e que permanece im\\xc3\\xb3vel durante o tempo em que eles est\\xc3\\xa3o \\xe2\\x80\\xa6 est\\xc3\\xa3o \\xe2\\x80\\xa6 conversando. Um semic\\xc3\\xadrculo em que n\\xc3\\xa3o se distingue professor e estudantes, para quem v\\xc3\\xaa de fora.\\n\\nSigo o grupo.\\n\\nImagens de instantes e instant\\xc3\\xa2neas se registram em meus olhos, que fazem fotografias.\\n\\nOs companheiros da sala de aula e fora da mesma, as pessoas no seu cotidiano se inspiram e me inspiram. Nova parada, novo di\\xc3\\xa1logo. Parece que o grupo sai \\xe2\\x80\\x9c\\xc3\\xa0  toa \\xe2\\x80\\x9d, mas n\\xc3\\xa3o \\xe2\\x80\\x9cdestoa\\xe2\\x80\\x9d neste caminhar est\\xc3\\xa9tico, se integra ao ritmo da cidade. Carro\\xc3\\xa7as, carros, \\xc3\\xb4nibus, trabalhadores, transeuntes, n\\xc3\\xb4mades ou sedent\\xc3\\xa1rios, quem sabe?\\n\\nE, no cotidiano de S\\xc3\\xa3o Paulo, os alunos do CRD come\\xc3\\xa7am sua interven\\xc3\\xa7\\xc3\\xa3o urbana e seu processo de forma\\xc3\\xa7\\xc3\\xa3o em empatia. Sim, clique aqui: https://www.crdsp.com.br/formacao-de-empatia, e compreender\\xc3\\xa1 o que significam os diversos eixos de forma\\xc3\\xa7\\xc3\\xa3o, assim como \\xe2\\x80\\x9cum Circuito de Afetos que prop\\xc3\\xb5e um programa de forma\\xc3\\xa7\\xc3\\xa3o em dan\\xc3\\xa7a e amplia a ideia de forma\\xc3\\xa7\\xc3\\xa3o al\\xc3\\xa9m das t\\xc3\\xa9cnicas, est\\xc3\\xa9ticas e estilos de dan\\xc3\\xa7as com os quais nos afinamos\\xe2\\x80\\x9d.\\n\\nO CRD fala sobre \\xe2\\x80\\x9cespa\\xc3\\xa7os de reflex\\xc3\\xa3o\\xe2\\x80\\xa6 conversas, aprecia\\xc3\\xa7\\xc3\\xa3o e debate sobre trabalhos art\\xc3\\xadsticos, espa\\xc3\\xa7os de conv\\xc3\\xadvio e modos coletivos de trabalho e troca\\xe2\\x80\\x9d.\\n\\nEntre no Eixo 2: Forma\\xc3\\xa7\\xc3\\xa3o do Int\\xc3\\xa9rprete.\\nEu me pergunto o que significa ser int\\xc3\\xa9rprete, incluindo as palavras a seguir:\\n\\n    \\xe2\\x80\\x9cEsse eixo ser\\xc3\\xa1 voltado \\xc3\\xa0 pr\\xc3\\xa1tica e \\xc3\\xa0 discuss\\xc3\\xa3o do trabalho do int\\xc3\\xa9rprete e ao apuramento do of\\xc3\\xadcio art\\xc3\\xadstico em dan\\xc3\\xa7a. Com o exerc\\xc3\\xadcio constante dos estados de presen\\xc3\\xa7a a partir do treino da sensibilidade, da observa\\xc3\\xa7\\xc3\\xa3o do mundo e da cria\\xc3\\xa7\\xc3\\xa3o de si\\xe2\\x80\\x9d.\\n    https://www.crdsp.com.br/formacao-de-empatia\\n\\nO estado de presen\\xc3\\xa7a me leva a imaginar um primeiro gesto/movimento na dan\\xc3\\xa7a, e se ele fosse grafia, depois de pisar o ch\\xc3\\xa3o ou saltar, seria uma experi\\xc3\\xaancia morfol\\xc3\\xb3gica do movimento, que o gesto gr\\xc3\\xa1fico mais instintivo \\xe2\\x80\\x93 GRAPHEIN, se manifesta no escrever/tra\\xc3\\xa7ar, mostrando o passo de uma subst\\xc3\\xa2ncia sobre um suporte. Ch\\xc3\\xa3o/ Suporte. Os p\\xc3\\xa1ssaros pousam. Sim, precisamos de um suporte para viver tempos de dura\\xc3\\xa7\\xc3\\xb5es na rela\\xc3\\xa7\\xc3\\xa3o corporal com o entorno, respeitando as leis do vivente.\\n\\nApresenta-se a mim e compartilho a dura\\xc3\\xa7\\xc3\\xa3o da emerg\\xc3\\xaancia do sentido:\\n\\n    \\xe2\\x80\\x9cA mais preciosa de todas [as dura\\xc3\\xa7\\xc3\\xb5es] porque ela permite viver o instante, acolher o acontecimento, o objeto, a alteridade em nossa pr\\xc3\\xb3pria realidade, em nosso continuum, em nosso devenir 1. \\xc3\\x89 o tempo necess\\xc3\\xa1rio para que o c\\xc3\\xa9rebro (o corpo) estabele\\xc3\\xa7a o v\\xc3\\xadnculo entre o que ele j\\xc3\\xa1 sabe e o que est\\xc3\\xa1 aprendendo, entre o que ele sabe fazer e o que deseja fazer. \\xc3\\x89 nessa dura\\xc3\\xa7\\xc3\\xa3o que o que est\\xc3\\xa1 sendo aprendido criar\\xc3\\xa1 ra\\xc3\\xadzes, tomar\\xc3\\xa1 consist\\xc3\\xaancia ou, ao contr\\xc3\\xa1rio, enfraquecer\\xc3\\xa1, para desaparecer, se nenhuma dura\\xc3\\xa7\\xc3\\xa3o tiver sido prevista e organizada.2 Nesse momento emerge o sentido.\\n\\nNesse momento emerge o sentido.\\n\\nExperi\\xc3\\xaancias a priori, conceitos a posteriori. O cuidado para que conceitos n\\xc3\\xa3o encerrem as possibilidades criativas, o cuidado para que as viv\\xc3\\xaancias n\\xc3\\xa3o sejam apenas desafogos psicol\\xc3\\xb3gicos. Nosso organismo tem membranas, nossos \\xc3\\xb3rg\\xc3\\xa3os est\\xc3\\xa3o unidos, mas o cora\\xc3\\xa7\\xc3\\xa3o \\xc3\\xa9 o cora\\xc3\\xa7\\xc3\\xa3o, os rins s\\xc3\\xa3o os rins, est\\xc3\\xa3o juntos, mas possuem suas membranas que lhes d\\xc3\\xa3o a for\\xc3\\xa7a de existir e ser. Limites, h\\xc3\\xa1 limites.\\n\\nNuma vis\\xc3\\xa3o transdisciplinar [3], nestas pr\\xc3\\xa1ticas poder\\xc3\\xadamos vivenciar n\\xc3\\xadveis diferentes de realidades. Tendo por base para estas reflex\\xc3\\xb5es a divis\\xc3\\xa3o feita por Am\\xc3\\xa9rico Sommerman no artigo \\xe2\\x80\\x9cPedagogia da Altern\\xc3\\xa2ncia e Transdisciplinaridade\\xe2\\x80\\x9d, cabe relembrar:\\n\\n    \\xe2\\x80\\x9cO primeiro n\\xc3\\xadvel de realidade, o corporal, \\xc3\\xa9 regido basicamente pelos desejos corporais, sendo seu aparato perceptivo os cinco sentidos; o segundo n\\xc3\\xadvel, o ps\\xc3\\xadquico, \\xc3\\xa9 regido basicamente pelas emo\\xc3\\xa7\\xc3\\xb5es e pelos pensamentos, cujo aparato perceptivo \\xc3\\xa9 constitu\\xc3\\xaddo pela raz\\xc3\\xa3o, pelas representa\\xc3\\xa7\\xc3\\xb5es e pelas formula\\xc3\\xa7\\xc3\\xb5es mentais; o terceiro n\\xc3\\xadvel, o an\\xc3\\xadmico, \\xc3\\xa9 regido basicamente pelos sentimentos e pelas formas imaginais e o aparato perceptivo, constitu\\xc3\\xaddo pela intelig\\xc3\\xaancia e pela intui\\xc3\\xa7\\xc3\\xa3o. J\\xc3\\xa1 o quarto n\\xc3\\xadvel, o espiritual \\xe2\\x80\\x93 o das ess\\xc3\\xaancias e dos arqu\\xc3\\xa9tipos primordiais \\xe2\\x80\\x93 \\xc3\\xa9 regido pelo amor e pela compaix\\xc3\\xa3o e o aparato perceptivo \\xc3\\xa9 a vis\\xc3\\xa3o ext\\xc3\\xa1tica.\\xe2\\x80\\x9d\\n\\n    http://www.cetrans.com.br/boletim/13/ \\n\\nExperi\\xc3\\xaancias a priori, conceitos a posteriori, \\xc3\\xa9 uma possibilidade\\xe2\\x80\\xa6 mas que experi\\xc3\\xaancias cada um deseja viver nas interven\\xc3\\xa7\\xc3\\xb5es urbanas e em que n\\xc3\\xadvel de realidade desejaria resplandecer?\\n\\nA gente passa.\\n\\nMe despe\\xc3\\xa7o e sigo meu caminho pela cidade de S\\xc3\\xa3o Paulo, tentando, pondo \\xc3\\xa0 prova e me arriscando no reconhecimento dos espa\\xc3\\xa7os em conex\\xc3\\xb5es, por um caminhar est\\xc3\\xa9tico.\\n\\n7 de junho de 2018\\n\\nAdriana\\n'"
            ]
          },
          "metadata": {
            "tags": []
          },
          "execution_count": 29
        }
      ]
    },
    {
      "cell_type": "markdown",
      "metadata": {
        "id": "S-dYdZtA1rO0",
        "colab_type": "text"
      },
      "source": [
        "## Step 3 - Opening and reading the file to be analysed"
      ]
    },
    {
      "cell_type": "markdown",
      "metadata": {
        "id": "i7R-GoKM0UYQ",
        "colab_type": "text"
      },
      "source": [
        "### Reading the file to be used"
      ]
    },
    {
      "cell_type": "code",
      "metadata": {
        "id": "Pr47apYCuZNY",
        "colab_type": "code",
        "colab": {}
      },
      "source": [
        "file_text = open('megalotropia-experiences.txt')\n",
        "text = file_text.read()\n",
        "file_text.close()\n",
        "\n",
        "#print(text)"
      ],
      "execution_count": 0,
      "outputs": []
    },
    {
      "cell_type": "markdown",
      "metadata": {
        "id": "Rgos7tj_3ALo",
        "colab_type": "text"
      },
      "source": [
        "## Step 4 - Removing stop words"
      ]
    },
    {
      "cell_type": "code",
      "metadata": {
        "id": "q6B-kk-n3Fke",
        "colab_type": "code",
        "outputId": "1595ec83-7368-4a50-c656-4a9653ebe9a7",
        "colab": {
          "base_uri": "https://localhost:8080/",
          "height": 186
        }
      },
      "source": [
        "import nltk\n",
        "nltk.download('punkt')\n",
        "nltk.download('stopwords')\n",
        "\n",
        "from nltk.corpus import stopwords \n",
        "from nltk.tokenize import word_tokenize \n",
        "\n",
        "tokenized_text = nltk.word_tokenize(text)\n",
        "stop_words = set(stopwords.words('portuguese')) \n",
        "filtered_text = [w for w in tokenized_text if not w in stop_words] \n",
        "final_text = ' '.join([str(elem) for elem in filtered_text]) \n",
        "\n",
        "# checking the outputs\n",
        "print(stop_words)\n",
        "print(tokenized_text)\n",
        "print(filtered_text)\n",
        "print(final_text)"
      ],
      "execution_count": 0,
      "outputs": [
        {
          "output_type": "stream",
          "text": [
            "[nltk_data] Downloading package punkt to /root/nltk_data...\n",
            "[nltk_data]   Unzipping tokenizers/punkt.zip.\n",
            "[nltk_data] Downloading package stopwords to /root/nltk_data...\n",
            "[nltk_data]   Unzipping corpora/stopwords.zip.\n",
            "{'estamos', 'houveríamos', 'houver', 'estavam', 'pelos', 'ou', 'nós', 'tem', 'houve', 'fora', 'estiver', 'foram', 'há', 'sejam', 'mas', 'tinha', 'teve', 'tiverem', 'haja', 'esse', 'tivermos', 'estava', 'a', 'sejamos', 'minhas', 'deles', 'está', 'em', 'pelas', 'nossa', 'tenha', 'só', 'as', 'das', 'estive', 'esteve', 'estivera', 'era', 'ele', 'até', 'estiveram', 'tenhamos', 'eles', 'também', 'para', 'aquela', 'serei', 'estão', 'estou', 'houvéssemos', 'mais', 'houverão', 'estivesse', 'hajamos', 'de', 'esteja', 'tinham', 'este', 'dele', 'qual', 'hajam', 'lhe', 'tém', 'tiveram', 'aquelas', 'fui', 'terei', 'no', 'tivéssemos', 'da', 'estivéramos', 'tivesse', 'houverem', 'for', 'seja', 'será', 'somos', 'foi', 'pela', 'fossem', 'num', 'hei', 'seu', 'teus', 'éramos', 'seria', 'houvessem', 'tivera', 'dos', 'estes', 'esta', 'seríamos', 'estivéssemos', 'houverei', 'aqueles', 'suas', 'minha', 'teu', 'seriam', 'como', 'numa', 'estas', 'estávamos', 'na', 'houvemos', 'à', 'houveram', 'é', 'aos', 'tenho', 'tive', 'lhes', 'tenham', 'do', 'com', 'vocês', 'fomos', 'teremos', 'ela', 'tua', 'vos', 'muito', 'tu', 'temos', 'já', 'aquele', 'essas', 'houveria', 'sou', 'nossos', 'estivermos', 'estivemos', 'se', 'estejam', 'nossas', 'isso', 'estiverem', 'houvera', 'aquilo', 'são', 'sua', 'nosso', 'e', 'essa', 'forem', 'tínhamos', 'fosse', 'ao', 'eram', 'houvéramos', 'fôssemos', 'teria', 'tuas', 'seus', 'te', 'isto', 'elas', 'dela', 'houveriam', 'por', 'não', 'sem', 'formos', 'delas', 'uma', 'eu', 'depois', 'serão', 'tiver', 'os', 'meus', 'um', 'você', 'tivessem', 'quem', 'esses', 'às', 'houvesse', 'o', 'terão', 'quando', 'meu', 'seremos', 'fôramos', 'estivessem', 'teriam', 'havemos', 'pelo', 'tivéramos', 'entre', 'nem', 'mesmo', 'houveremos', 'hão', 'estejamos', 'houverá', 'nos', 'nas', 'tivemos', 'terá', 'houvermos', 'que', 'teríamos', 'me'}\n",
            "['A', 'gente', 'passa', '...', '“', 'A', 'gente', 'passa', 'nesta', 'vida', 'como', 'canoa', 'em', 'água', 'funda', '.', 'Passa', '.', 'A', 'água', 'bole', 'um', 'pouco', '.', 'E', 'depois', 'não', 'fica', 'nada.', '”', '—', 'Ruth', 'Guimarães', 'A', 'gente', 'passa…', 'Vou', 'em', 'direção', 'ao', 'centro', 'da', 'cidade', 'de', 'São', 'Paulo', 'e', 'encontro', 'a', 'Praça', 'Ramos', '.', 'Lá', 'esta', 'o', 'CRD', ',', 'Centro', 'de', 'Referência', 'da', 'Dança', ',', 'da', 'Prefeitura', 'de', 'São', 'Paulo', '.', 'Uma', 'das', 'alunas', 'me', 'convidou', 'para', 'acompanhar', 'uma', 'intervenção', 'urbana', ',', 'realizada', 'numa', 'quinta-feira', ',', '7', 'de', 'junho', 'de', '2018', ',', 'no', 'horário', 'do', 'curso', ',', 'às', '14h30', '.', 'Entro', 'no', 'CRD', '.', 'Dois', 'gatos', 'me', 'recebem', 'na', 'porta', 'carinhosamente', '.', 'Encontro', 'quem', 'me', 'apresenta', 'o', 'lugar', 'e', 'algumas', 'pessoas', '.', 'Esta', 'pessoa', 'se', 'retira', '.', 'Sai', 'com', 'alguns', 'companheiros', '.', 'Fico', 'só', 'sem', 'pensamentos', '.', 'Minha', 'visão', 'algo', 'turva', 'desliza', 'com', 'cuidados', 'e', ',', 'do', 'lado', 'de', 'dentro', ',', 'observa', 'o', 'lado', 'de', 'fora', '.', 'Lá', 'estão', 'eles', ',', 'embaixo', 'de', 'umas', 'árvores', 'e', 'coqueiros', 'altos', '.', 'Estamos', 'na', 'Praça', 'Ramos', ',', 'hoje', 'recuperada', '.', 'Esse', 'logradouro', 'está', 'em', 'um', 'bairro', 'bem', 'antigo', 'de', 'São', 'Paulo', ',', 'chamado', 'República', ',', 'sob', 'o', 'viaduto', 'do', 'Chá', ',', 'próximo', 'ao', 'Teatro', 'Municipal', '.', 'O', 'grupo', 'volta', 'a', 'entrar', 'e', 'volta', 'a', 'sair', 'do', 'CRD', ',', 'creio', 'que', 'não', 'estão', 'nem', 'fora', 'nem', 'dentro', ',', 'mas', ',', 'quando', 'há', 'portas', ',', 'devemos', 'admitir', 'que', 'algo', 'se', 'fecha', 'e', 'algo', 'se', 'abre', ',', 'também', 'dentro', 'de', 'nós', '.', 'Continuam', 'se', 'preparando', 'para', 'seus', 'trabalhos', 'artísticos', '.', 'Subiram', 'para', 'o', 'Viaduto', 'do', 'Chá', '.', 'Param', ',', 'assim', 'como', 'uma', 'pomba', ',', 'que', 'observa', 'detalhes', 'da', 'Praça', 'Ramos', 'e', 'que', 'permanece', 'imóvel', 'durante', 'o', 'tempo', 'em', 'que', 'eles', 'estão', '…', 'estão', '…', 'conversando', '.', 'Um', 'semicírculo', 'em', 'que', 'não', 'se', 'distingue', 'professor', 'e', 'estudantes', ',', 'para', 'quem', 'vê', 'de', 'fora', '.', 'Sigo', 'o', 'grupo', '.', 'Imagens', 'de', 'instantes', 'e', 'instantâneas', 'se', 'registram', 'em', 'meus', 'olhos', ',', 'que', 'fazem', 'fotografias', '.', 'Os', 'companheiros', 'da', 'sala', 'de', 'aula', 'e', 'fora', 'da', 'mesma', ',', 'as', 'pessoas', 'no', 'seu', 'cotidiano', 'se', 'inspiram', 'e', 'me', 'inspiram', '.', 'Nova', 'parada', ',', 'novo', 'diálogo', '.', 'Parece', 'que', 'o', 'grupo', 'sai', '“', 'à', 'toa', '”', ',', 'mas', 'não', '“', 'destoa', '”', 'neste', 'caminhar', 'estético', ',', 'se', 'integra', 'ao', 'ritmo', 'da', 'cidade', '.', 'Carroças', ',', 'carros', ',', 'ônibus', ',', 'trabalhadores', ',', 'transeuntes', ',', 'nômades', 'ou', 'sedentários', ',', 'quem', 'sabe', '?', 'E', ',', 'no', 'cotidiano', 'de', 'São', 'Paulo', ',', 'os', 'alunos', 'do', 'CRD', 'começam', 'sua', 'intervenção', 'urbana', 'e', 'seu', 'processo', 'de', 'formação', 'em', 'empatia', '.', 'Sim', ',', 'clique', 'aqui', ':', 'https', ':', '//www.crdsp.com.br/formacao-de-empatia', ',', 'e', 'compreenderá', 'o', 'que', 'significam', 'os', 'diversos', 'eixos', 'de', 'formação', ',', 'assim', 'como', '“', 'um', 'Circuito', 'de', 'Afetos', 'que', 'propõe', 'um', 'programa', 'de', 'formação', 'em', 'dança', 'e', 'amplia', 'a', 'ideia', 'de', 'formação', 'além', 'das', 'técnicas', ',', 'estéticas', 'e', 'estilos', 'de', 'danças', 'com', 'os', 'quais', 'nos', 'afinamos', '”', '.', 'O', 'CRD', 'fala', 'sobre', '“', 'espaços', 'de', 'reflexão…', 'conversas', ',', 'apreciação', 'e', 'debate', 'sobre', 'trabalhos', 'artísticos', ',', 'espaços', 'de', 'convívio', 'e', 'modos', 'coletivos', 'de', 'trabalho', 'e', 'troca', '”', '.', 'Entre', 'no', 'Eixo', '2', ':', 'Formação', 'do', 'Intérprete', '.', 'Eu', 'me', 'pergunto', 'o', 'que', 'significa', 'ser', 'intérprete', ',', 'incluindo', 'as', 'palavras', 'a', 'seguir', ':', '“', 'Esse', 'eixo', 'será', 'voltado', 'à', 'prática', 'e', 'à', 'discussão', 'do', 'trabalho', 'do', 'intérprete', 'e', 'ao', 'apuramento', 'do', 'ofício', 'artístico', 'em', 'dança', '.', 'Com', 'o', 'exercício', 'constante', 'dos', 'estados', 'de', 'presença', 'a', 'partir', 'do', 'treino', 'da', 'sensibilidade', ',', 'da', 'observação', 'do', 'mundo', 'e', 'da', 'criação', 'de', 'si', '”', '.', 'https', ':', '//www.crdsp.com.br/formacao-de-empatia', 'O', 'estado', 'de', 'presença', 'me', 'leva', 'a', 'imaginar', 'um', 'primeiro', 'gesto/movimento', 'na', 'dança', ',', 'e', 'se', 'ele', 'fosse', 'grafia', ',', 'depois', 'de', 'pisar', 'o', 'chão', 'ou', 'saltar', ',', 'seria', 'uma', 'experiência', 'morfológica', 'do', 'movimento', ',', 'que', 'o', 'gesto', 'gráfico', 'mais', 'instintivo', '–', 'GRAPHEIN', ',', 'se', 'manifesta', 'no', 'escrever/traçar', ',', 'mostrando', 'o', 'passo', 'de', 'uma', 'substância', 'sobre', 'um', 'suporte', '.', 'Chão/', 'Suporte', '.', 'Os', 'pássaros', 'pousam', '.', 'Sim', ',', 'precisamos', 'de', 'um', 'suporte', 'para', 'viver', 'tempos', 'de', 'durações', 'na', 'relação', 'corporal', 'com', 'o', 'entorno', ',', 'respeitando', 'as', 'leis', 'do', 'vivente', '.', 'Apresenta-se', 'a', 'mim', 'e', 'compartilho', 'a', 'duração', 'da', 'emergência', 'do', 'sentido', ':', '“', 'A', 'mais', 'preciosa', 'de', 'todas', '[', 'as', 'durações', ']', 'porque', 'ela', 'permite', 'viver', 'o', 'instante', ',', 'acolher', 'o', 'acontecimento', ',', 'o', 'objeto', ',', 'a', 'alteridade', 'em', 'nossa', 'própria', 'realidade', ',', 'em', 'nosso', 'continuum', ',', 'em', 'nosso', 'devenir', '1', '.', 'É', 'o', 'tempo', 'necessário', 'para', 'que', 'o', 'cérebro', '(', 'o', 'corpo', ')', 'estabeleça', 'o', 'vínculo', 'entre', 'o', 'que', 'ele', 'já', 'sabe', 'e', 'o', 'que', 'está', 'aprendendo', ',', 'entre', 'o', 'que', 'ele', 'sabe', 'fazer', 'e', 'o', 'que', 'deseja', 'fazer', '.', 'É', 'nessa', 'duração', 'que', 'o', 'que', 'está', 'sendo', 'aprendido', 'criará', 'raízes', ',', 'tomará', 'consistência', 'ou', ',', 'ao', 'contrário', ',', 'enfraquecerá', ',', 'para', 'desaparecer', ',', 'se', 'nenhuma', 'duração', 'tiver', 'sido', 'prevista', 'e', 'organizada.2', 'Nesse', 'momento', 'emerge', 'o', 'sentido', '.', 'Nesse', 'momento', 'emerge', 'o', 'sentido', '.', 'Experiências', 'a', 'priori', ',', 'conceitos', 'a', 'posteriori', '.', 'O', 'cuidado', 'para', 'que', 'conceitos', 'não', 'encerrem', 'as', 'possibilidades', 'criativas', ',', 'o', 'cuidado', 'para', 'que', 'as', 'vivências', 'não', 'sejam', 'apenas', 'desafogos', 'psicológicos', '.', 'Nosso', 'organismo', 'tem', 'membranas', ',', 'nossos', 'órgãos', 'estão', 'unidos', ',', 'mas', 'o', 'coração', 'é', 'o', 'coração', ',', 'os', 'rins', 'são', 'os', 'rins', ',', 'estão', 'juntos', ',', 'mas', 'possuem', 'suas', 'membranas', 'que', 'lhes', 'dão', 'a', 'força', 'de', 'existir', 'e', 'ser', '.', 'Limites', ',', 'há', 'limites', '.', 'Numa', 'visão', 'transdisciplinar', '[', '3', ']', ',', 'nestas', 'práticas', 'poderíamos', 'vivenciar', 'níveis', 'diferentes', 'de', 'realidades', '.', 'Tendo', 'por', 'base', 'para', 'estas', 'reflexões', 'a', 'divisão', 'feita', 'por', 'Américo', 'Sommerman', 'no', 'artigo', '“', 'Pedagogia', 'da', 'Alternância', 'e', 'Transdisciplinaridade', '”', ',', 'cabe', 'relembrar', ':', '“', 'O', 'primeiro', 'nível', 'de', 'realidade', ',', 'o', 'corporal', ',', 'é', 'regido', 'basicamente', 'pelos', 'desejos', 'corporais', ',', 'sendo', 'seu', 'aparato', 'perceptivo', 'os', 'cinco', 'sentidos', ';', 'o', 'segundo', 'nível', ',', 'o', 'psíquico', ',', 'é', 'regido', 'basicamente', 'pelas', 'emoções', 'e', 'pelos', 'pensamentos', ',', 'cujo', 'aparato', 'perceptivo', 'é', 'constituído', 'pela', 'razão', ',', 'pelas', 'representações', 'e', 'pelas', 'formulações', 'mentais', ';', 'o', 'terceiro', 'nível', ',', 'o', 'anímico', ',', 'é', 'regido', 'basicamente', 'pelos', 'sentimentos', 'e', 'pelas', 'formas', 'imaginais', 'e', 'o', 'aparato', 'perceptivo', ',', 'constituído', 'pela', 'inteligência', 'e', 'pela', 'intuição', '.', 'Já', 'o', 'quarto', 'nível', ',', 'o', 'espiritual', '–', 'o', 'das', 'essências', 'e', 'dos', 'arquétipos', 'primordiais', '–', 'é', 'regido', 'pelo', 'amor', 'e', 'pela', 'compaixão', 'e', 'o', 'aparato', 'perceptivo', 'é', 'a', 'visão', 'extática.', '”', 'http', ':', '//www.cetrans.com.br/boletim/13/', 'Experiências', 'a', 'priori', ',', 'conceitos', 'a', 'posteriori', ',', 'é', 'uma', 'possibilidade…', 'mas', 'que', 'experiências', 'cada', 'um', 'deseja', 'viver', 'nas', 'intervenções', 'urbanas', 'e', 'em', 'que', 'nível', 'de', 'realidade', 'desejaria', 'resplandecer', '?', 'A', 'gente', 'passa', '.', 'Me', 'despeço', 'e', 'sigo', 'meu', 'caminho', 'pela', 'cidade', 'de', 'São', 'Paulo', ',', 'tentando', ',', 'pondo', 'à', 'prova', 'e', 'me', 'arriscando', 'no', 'reconhecimento', 'dos', 'espaços', 'em', 'conexões', ',', 'por', 'um', 'caminhar', 'estético', '.', '7', 'de', 'junho', 'de', '2018', 'Adriana']\n",
            "['A', 'gente', 'passa', '...', '“', 'A', 'gente', 'passa', 'nesta', 'vida', 'canoa', 'água', 'funda', '.', 'Passa', '.', 'A', 'água', 'bole', 'pouco', '.', 'E', 'fica', 'nada.', '”', '—', 'Ruth', 'Guimarães', 'A', 'gente', 'passa…', 'Vou', 'direção', 'centro', 'cidade', 'São', 'Paulo', 'encontro', 'Praça', 'Ramos', '.', 'Lá', 'CRD', ',', 'Centro', 'Referência', 'Dança', ',', 'Prefeitura', 'São', 'Paulo', '.', 'Uma', 'alunas', 'convidou', 'acompanhar', 'intervenção', 'urbana', ',', 'realizada', 'quinta-feira', ',', '7', 'junho', '2018', ',', 'horário', 'curso', ',', '14h30', '.', 'Entro', 'CRD', '.', 'Dois', 'gatos', 'recebem', 'porta', 'carinhosamente', '.', 'Encontro', 'apresenta', 'lugar', 'algumas', 'pessoas', '.', 'Esta', 'pessoa', 'retira', '.', 'Sai', 'alguns', 'companheiros', '.', 'Fico', 'pensamentos', '.', 'Minha', 'visão', 'algo', 'turva', 'desliza', 'cuidados', ',', 'lado', 'dentro', ',', 'observa', 'lado', '.', 'Lá', ',', 'embaixo', 'umas', 'árvores', 'coqueiros', 'altos', '.', 'Estamos', 'Praça', 'Ramos', ',', 'hoje', 'recuperada', '.', 'Esse', 'logradouro', 'bairro', 'bem', 'antigo', 'São', 'Paulo', ',', 'chamado', 'República', ',', 'sob', 'viaduto', 'Chá', ',', 'próximo', 'Teatro', 'Municipal', '.', 'O', 'grupo', 'volta', 'entrar', 'volta', 'sair', 'CRD', ',', 'creio', 'dentro', ',', ',', 'portas', ',', 'devemos', 'admitir', 'algo', 'fecha', 'algo', 'abre', ',', 'dentro', '.', 'Continuam', 'preparando', 'trabalhos', 'artísticos', '.', 'Subiram', 'Viaduto', 'Chá', '.', 'Param', ',', 'assim', 'pomba', ',', 'observa', 'detalhes', 'Praça', 'Ramos', 'permanece', 'imóvel', 'durante', 'tempo', '…', '…', 'conversando', '.', 'Um', 'semicírculo', 'distingue', 'professor', 'estudantes', ',', 'vê', '.', 'Sigo', 'grupo', '.', 'Imagens', 'instantes', 'instantâneas', 'registram', 'olhos', ',', 'fazem', 'fotografias', '.', 'Os', 'companheiros', 'sala', 'aula', 'mesma', ',', 'pessoas', 'cotidiano', 'inspiram', 'inspiram', '.', 'Nova', 'parada', ',', 'novo', 'diálogo', '.', 'Parece', 'grupo', 'sai', '“', 'toa', '”', ',', '“', 'destoa', '”', 'neste', 'caminhar', 'estético', ',', 'integra', 'ritmo', 'cidade', '.', 'Carroças', ',', 'carros', ',', 'ônibus', ',', 'trabalhadores', ',', 'transeuntes', ',', 'nômades', 'sedentários', ',', 'sabe', '?', 'E', ',', 'cotidiano', 'São', 'Paulo', ',', 'alunos', 'CRD', 'começam', 'intervenção', 'urbana', 'processo', 'formação', 'empatia', '.', 'Sim', ',', 'clique', 'aqui', ':', 'https', ':', '//www.crdsp.com.br/formacao-de-empatia', ',', 'compreenderá', 'significam', 'diversos', 'eixos', 'formação', ',', 'assim', '“', 'Circuito', 'Afetos', 'propõe', 'programa', 'formação', 'dança', 'amplia', 'ideia', 'formação', 'além', 'técnicas', ',', 'estéticas', 'estilos', 'danças', 'quais', 'afinamos', '”', '.', 'O', 'CRD', 'fala', 'sobre', '“', 'espaços', 'reflexão…', 'conversas', ',', 'apreciação', 'debate', 'sobre', 'trabalhos', 'artísticos', ',', 'espaços', 'convívio', 'modos', 'coletivos', 'trabalho', 'troca', '”', '.', 'Entre', 'Eixo', '2', ':', 'Formação', 'Intérprete', '.', 'Eu', 'pergunto', 'significa', 'ser', 'intérprete', ',', 'incluindo', 'palavras', 'seguir', ':', '“', 'Esse', 'eixo', 'voltado', 'prática', 'discussão', 'trabalho', 'intérprete', 'apuramento', 'ofício', 'artístico', 'dança', '.', 'Com', 'exercício', 'constante', 'estados', 'presença', 'partir', 'treino', 'sensibilidade', ',', 'observação', 'mundo', 'criação', 'si', '”', '.', 'https', ':', '//www.crdsp.com.br/formacao-de-empatia', 'O', 'estado', 'presença', 'leva', 'imaginar', 'primeiro', 'gesto/movimento', 'dança', ',', 'grafia', ',', 'pisar', 'chão', 'saltar', ',', 'experiência', 'morfológica', 'movimento', ',', 'gesto', 'gráfico', 'instintivo', '–', 'GRAPHEIN', ',', 'manifesta', 'escrever/traçar', ',', 'mostrando', 'passo', 'substância', 'sobre', 'suporte', '.', 'Chão/', 'Suporte', '.', 'Os', 'pássaros', 'pousam', '.', 'Sim', ',', 'precisamos', 'suporte', 'viver', 'tempos', 'durações', 'relação', 'corporal', 'entorno', ',', 'respeitando', 'leis', 'vivente', '.', 'Apresenta-se', 'mim', 'compartilho', 'duração', 'emergência', 'sentido', ':', '“', 'A', 'preciosa', 'todas', '[', 'durações', ']', 'porque', 'permite', 'viver', 'instante', ',', 'acolher', 'acontecimento', ',', 'objeto', ',', 'alteridade', 'própria', 'realidade', ',', 'continuum', ',', 'devenir', '1', '.', 'É', 'tempo', 'necessário', 'cérebro', '(', 'corpo', ')', 'estabeleça', 'vínculo', 'sabe', 'aprendendo', ',', 'sabe', 'fazer', 'deseja', 'fazer', '.', 'É', 'nessa', 'duração', 'sendo', 'aprendido', 'criará', 'raízes', ',', 'tomará', 'consistência', ',', 'contrário', ',', 'enfraquecerá', ',', 'desaparecer', ',', 'nenhuma', 'duração', 'sido', 'prevista', 'organizada.2', 'Nesse', 'momento', 'emerge', 'sentido', '.', 'Nesse', 'momento', 'emerge', 'sentido', '.', 'Experiências', 'priori', ',', 'conceitos', 'posteriori', '.', 'O', 'cuidado', 'conceitos', 'encerrem', 'possibilidades', 'criativas', ',', 'cuidado', 'vivências', 'apenas', 'desafogos', 'psicológicos', '.', 'Nosso', 'organismo', 'membranas', ',', 'órgãos', 'unidos', ',', 'coração', 'coração', ',', 'rins', 'rins', ',', 'juntos', ',', 'possuem', 'membranas', 'dão', 'força', 'existir', 'ser', '.', 'Limites', ',', 'limites', '.', 'Numa', 'visão', 'transdisciplinar', '[', '3', ']', ',', 'nestas', 'práticas', 'poderíamos', 'vivenciar', 'níveis', 'diferentes', 'realidades', '.', 'Tendo', 'base', 'reflexões', 'divisão', 'feita', 'Américo', 'Sommerman', 'artigo', '“', 'Pedagogia', 'Alternância', 'Transdisciplinaridade', '”', ',', 'cabe', 'relembrar', ':', '“', 'O', 'primeiro', 'nível', 'realidade', ',', 'corporal', ',', 'regido', 'basicamente', 'desejos', 'corporais', ',', 'sendo', 'aparato', 'perceptivo', 'cinco', 'sentidos', ';', 'segundo', 'nível', ',', 'psíquico', ',', 'regido', 'basicamente', 'emoções', 'pensamentos', ',', 'cujo', 'aparato', 'perceptivo', 'constituído', 'razão', ',', 'representações', 'formulações', 'mentais', ';', 'terceiro', 'nível', ',', 'anímico', ',', 'regido', 'basicamente', 'sentimentos', 'formas', 'imaginais', 'aparato', 'perceptivo', ',', 'constituído', 'inteligência', 'intuição', '.', 'Já', 'quarto', 'nível', ',', 'espiritual', '–', 'essências', 'arquétipos', 'primordiais', '–', 'regido', 'amor', 'compaixão', 'aparato', 'perceptivo', 'visão', 'extática.', '”', 'http', ':', '//www.cetrans.com.br/boletim/13/', 'Experiências', 'priori', ',', 'conceitos', 'posteriori', ',', 'possibilidade…', 'experiências', 'cada', 'deseja', 'viver', 'intervenções', 'urbanas', 'nível', 'realidade', 'desejaria', 'resplandecer', '?', 'A', 'gente', 'passa', '.', 'Me', 'despeço', 'sigo', 'caminho', 'cidade', 'São', 'Paulo', ',', 'tentando', ',', 'pondo', 'prova', 'arriscando', 'reconhecimento', 'espaços', 'conexões', ',', 'caminhar', 'estético', '.', '7', 'junho', '2018', 'Adriana']\n",
            "A gente passa ... “ A gente passa nesta vida canoa água funda . Passa . A água bole pouco . E fica nada. ” — Ruth Guimarães A gente passa… Vou direção centro cidade São Paulo encontro Praça Ramos . Lá CRD , Centro Referência Dança , Prefeitura São Paulo . Uma alunas convidou acompanhar intervenção urbana , realizada quinta-feira , 7 junho 2018 , horário curso , 14h30 . Entro CRD . Dois gatos recebem porta carinhosamente . Encontro apresenta lugar algumas pessoas . Esta pessoa retira . Sai alguns companheiros . Fico pensamentos . Minha visão algo turva desliza cuidados , lado dentro , observa lado . Lá , embaixo umas árvores coqueiros altos . Estamos Praça Ramos , hoje recuperada . Esse logradouro bairro bem antigo São Paulo , chamado República , sob viaduto Chá , próximo Teatro Municipal . O grupo volta entrar volta sair CRD , creio dentro , , portas , devemos admitir algo fecha algo abre , dentro . Continuam preparando trabalhos artísticos . Subiram Viaduto Chá . Param , assim pomba , observa detalhes Praça Ramos permanece imóvel durante tempo … … conversando . Um semicírculo distingue professor estudantes , vê . Sigo grupo . Imagens instantes instantâneas registram olhos , fazem fotografias . Os companheiros sala aula mesma , pessoas cotidiano inspiram inspiram . Nova parada , novo diálogo . Parece grupo sai “ toa ” , “ destoa ” neste caminhar estético , integra ritmo cidade . Carroças , carros , ônibus , trabalhadores , transeuntes , nômades sedentários , sabe ? E , cotidiano São Paulo , alunos CRD começam intervenção urbana processo formação empatia . Sim , clique aqui : https : //www.crdsp.com.br/formacao-de-empatia , compreenderá significam diversos eixos formação , assim “ Circuito Afetos propõe programa formação dança amplia ideia formação além técnicas , estéticas estilos danças quais afinamos ” . O CRD fala sobre “ espaços reflexão… conversas , apreciação debate sobre trabalhos artísticos , espaços convívio modos coletivos trabalho troca ” . Entre Eixo 2 : Formação Intérprete . Eu pergunto significa ser intérprete , incluindo palavras seguir : “ Esse eixo voltado prática discussão trabalho intérprete apuramento ofício artístico dança . Com exercício constante estados presença partir treino sensibilidade , observação mundo criação si ” . https : //www.crdsp.com.br/formacao-de-empatia O estado presença leva imaginar primeiro gesto/movimento dança , grafia , pisar chão saltar , experiência morfológica movimento , gesto gráfico instintivo – GRAPHEIN , manifesta escrever/traçar , mostrando passo substância sobre suporte . Chão/ Suporte . Os pássaros pousam . Sim , precisamos suporte viver tempos durações relação corporal entorno , respeitando leis vivente . Apresenta-se mim compartilho duração emergência sentido : “ A preciosa todas [ durações ] porque permite viver instante , acolher acontecimento , objeto , alteridade própria realidade , continuum , devenir 1 . É tempo necessário cérebro ( corpo ) estabeleça vínculo sabe aprendendo , sabe fazer deseja fazer . É nessa duração sendo aprendido criará raízes , tomará consistência , contrário , enfraquecerá , desaparecer , nenhuma duração sido prevista organizada.2 Nesse momento emerge sentido . Nesse momento emerge sentido . Experiências priori , conceitos posteriori . O cuidado conceitos encerrem possibilidades criativas , cuidado vivências apenas desafogos psicológicos . Nosso organismo membranas , órgãos unidos , coração coração , rins rins , juntos , possuem membranas dão força existir ser . Limites , limites . Numa visão transdisciplinar [ 3 ] , nestas práticas poderíamos vivenciar níveis diferentes realidades . Tendo base reflexões divisão feita Américo Sommerman artigo “ Pedagogia Alternância Transdisciplinaridade ” , cabe relembrar : “ O primeiro nível realidade , corporal , regido basicamente desejos corporais , sendo aparato perceptivo cinco sentidos ; segundo nível , psíquico , regido basicamente emoções pensamentos , cujo aparato perceptivo constituído razão , representações formulações mentais ; terceiro nível , anímico , regido basicamente sentimentos formas imaginais aparato perceptivo , constituído inteligência intuição . Já quarto nível , espiritual – essências arquétipos primordiais – regido amor compaixão aparato perceptivo visão extática. ” http : //www.cetrans.com.br/boletim/13/ Experiências priori , conceitos posteriori , possibilidade… experiências cada deseja viver intervenções urbanas nível realidade desejaria resplandecer ? A gente passa . Me despeço sigo caminho cidade São Paulo , tentando , pondo prova arriscando reconhecimento espaços conexões , caminhar estético . 7 junho 2018 Adriana\n"
          ],
          "name": "stdout"
        }
      ]
    },
    {
      "cell_type": "markdown",
      "metadata": {
        "id": "ZZ67ht9413Gm",
        "colab_type": "text"
      },
      "source": [
        "## Step 5 - Creating the word cloud"
      ]
    },
    {
      "cell_type": "markdown",
      "metadata": {
        "id": "7K1QsuUUE1GV",
        "colab_type": "text"
      },
      "source": [
        "### Regular word cloud"
      ]
    },
    {
      "cell_type": "code",
      "metadata": {
        "id": "ZX2i6fCm2AFJ",
        "colab_type": "code",
        "colab": {}
      },
      "source": [
        "import matplotlib.pyplot as plt\n",
        "% matplotlib inline\n",
        "\n",
        "from PIL import Image\n",
        "from wordcloud import WordCloud, STOPWORDS, ImageColorGenerator\n",
        "\n",
        "# create and generate a word cloud image\n",
        "wordcloud = WordCloud(max_font_size = 50, \n",
        "                      max_words = 200, \n",
        "                      background_color = \"white\")\n",
        "wordcloud.generate(final_text)\n",
        "\n",
        "# display the generated image\n",
        "plt.figure(figsize = [20, 10], dpi = 400)\n",
        "plt.imshow(wordcloud, interpolation = \"bilinear\")\n",
        "plt.axis(\"off\")\n",
        "plt.show()"
      ],
      "execution_count": 0,
      "outputs": []
    },
    {
      "cell_type": "markdown",
      "metadata": {
        "id": "4KUlkXJWE47a",
        "colab_type": "text"
      },
      "source": [
        "### Using mask"
      ]
    },
    {
      "cell_type": "code",
      "metadata": {
        "id": "oIIHCiPma1eS",
        "colab_type": "code",
        "colab": {}
      },
      "source": [
        "megalotropia_mask = np.array(Image.open(\"megalotropia-m.png\"))\n",
        "\n",
        "# create and generate a word cloud image\n",
        "wordcloud = WordCloud(background_color = \"white\", \n",
        "               max_words = 500, \n",
        "               mask = megalotropia_mask, \n",
        "               contour_width = 0, \n",
        "               contour_color = 'indigo')\n",
        "wordcloud.generate(final_text)\n",
        "\n",
        "# display the generated image\n",
        "plt.figure(figsize = [20, 10], dpi = 600)\n",
        "plt.imshow(wordcloud, interpolation = 'bilinear')\n",
        "plt.axis(\"off\")\n",
        "plt.show()"
      ],
      "execution_count": 0,
      "outputs": []
    },
    {
      "cell_type": "markdown",
      "metadata": {
        "id": "gkEnSkPg_ZSi",
        "colab_type": "text"
      },
      "source": [
        "## References"
      ]
    },
    {
      "cell_type": "markdown",
      "metadata": {
        "id": "uNxl2xG8_auC",
        "colab_type": "text"
      },
      "source": [
        "- https://www.datacamp.com/community/tutorials/wordcloud-python"
      ]
    }
  ]
}