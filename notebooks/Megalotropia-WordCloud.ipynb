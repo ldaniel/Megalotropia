{
  "nbformat": 4,
  "nbformat_minor": 0,
  "metadata": {
    "colab": {
      "name": "Megalotropia-WordCloud.ipynb",
      "provenance": [],
      "collapsed_sections": [],
      "authorship_tag": "ABX9TyNKFy9YvfrmGZOaYsWtS2/U",
      "include_colab_link": true
    },
    "kernelspec": {
      "name": "python3",
      "display_name": "Python 3"
    }
  },
  "cells": [
    {
      "cell_type": "markdown",
      "metadata": {
        "id": "view-in-github",
        "colab_type": "text"
      },
      "source": [
        "<a href=\"https://colab.research.google.com/github/ldaniel/Megalotropia/blob/master/notebooks/Megalotropia-WordCloud.ipynb\" target=\"_parent\"><img src=\"https://colab.research.google.com/assets/colab-badge.svg\" alt=\"Open In Colab\"/></a>"
      ]
    },
    {
      "cell_type": "markdown",
      "metadata": {
        "id": "wVKxLnuxzQ9g",
        "colab_type": "text"
      },
      "source": [
        "# Megalotropia Word Count Analysis\n"
      ]
    },
    {
      "cell_type": "markdown",
      "metadata": {
        "id": "L0LCllFxzi9j",
        "colab_type": "text"
      },
      "source": [
        "## Step 1 - Configuration"
      ]
    },
    {
      "cell_type": "markdown",
      "metadata": {
        "id": "PoE9J6K9zqMB",
        "colab_type": "text"
      },
      "source": [
        "### Loading required basic packages"
      ]
    },
    {
      "cell_type": "code",
      "metadata": {
        "colab_type": "code",
        "id": "eHFdPJrRxTry",
        "colab": {}
      },
      "source": [
        "import numpy as np\n",
        "import pandas as pd"
      ],
      "execution_count": 0,
      "outputs": []
    },
    {
      "cell_type": "markdown",
      "metadata": {
        "id": "OnS4f6zXz3jy",
        "colab_type": "text"
      },
      "source": [
        "## Step 2 - Reading data to be analyzed"
      ]
    },
    {
      "cell_type": "markdown",
      "metadata": {
        "id": "rDmmRroCCVh1",
        "colab_type": "text"
      },
      "source": [
        "### Method 1 - Getting from Google Drive"
      ]
    },
    {
      "cell_type": "markdown",
      "metadata": {
        "id": "byiPVQM6zxQc",
        "colab_type": "text"
      },
      "source": [
        "#### Defining imports from packages"
      ]
    },
    {
      "cell_type": "code",
      "metadata": {
        "id": "MsoKZpMwwm2l",
        "colab_type": "code",
        "colab": {}
      },
      "source": [
        "from os import path\n",
        "from pydrive.auth import GoogleAuth\n",
        "from pydrive.drive import GoogleDrive\n",
        "from google.colab import auth\n",
        "from google.colab import files\n",
        "from oauth2client.client import GoogleCredentials"
      ],
      "execution_count": 0,
      "outputs": []
    },
    {
      "cell_type": "markdown",
      "metadata": {
        "id": "vtDwKD3j0GMj",
        "colab_type": "text"
      },
      "source": [
        "#### Getting credentials from Google Drive"
      ]
    },
    {
      "cell_type": "code",
      "metadata": {
        "id": "JeETBXmLwrwo",
        "colab_type": "code",
        "colab": {}
      },
      "source": [
        "auth.authenticate_user()\n",
        "gauth = GoogleAuth()\n",
        "gauth.credentials = GoogleCredentials.get_application_default()\n",
        "drive = GoogleDrive(gauth)"
      ],
      "execution_count": 0,
      "outputs": []
    },
    {
      "cell_type": "markdown",
      "metadata": {
        "id": "Yf3MSpf-0Lul",
        "colab_type": "text"
      },
      "source": [
        "#### Downloading file from Google Drive to Colab and reading the data"
      ]
    },
    {
      "cell_type": "markdown",
      "metadata": {
        "id": "oefgkps40YsO",
        "colab_type": "text"
      },
      "source": [
        "Before run this step, it's necessary to get the file ID from the shareable link obtained in Google Drive.\n",
        "\n",
        "Alternatively, the file ID can be also obtained from the link. The file ID is alphanumeric characters between /d/ and /view?usp=sharing. For instance, let’s assume the shareable like to the file we want to import is as bellow.\n",
        "\n",
        "https://drive.google.com/open?id=1hO2Xvna8X--LCRDei4iYGtBetzH8lxet"
      ]
    },
    {
      "cell_type": "code",
      "metadata": {
        "id": "bW0pY-PWy9MS",
        "colab_type": "code",
        "colab": {}
      },
      "source": [
        "downloaded = drive.CreateFile({'id':\"1hO2Xvna8X--LCRDei4iYGtBetzH8lxet\"})\n",
        "downloaded.GetContentFile('megalotropia-experiences.txt')\n",
        "\n",
        "## to download an image from Google Drive to Google Colab\n",
        "# downloaded = drive.CreateFile({'id':\"1UP2OTvUK2E7foR59B1Wx5TMKBNnKGrfZ\"})\n",
        "# downloaded.GetContentFile('megalotropia-m.png')\n",
        "# megalotropia_mask = np.array(Image.open(\"megalotropia-m.png\"))\n",
        "\n",
        "file_text = open('megalotropia-experiences.txt')\n",
        "text = file_text.read()\n",
        "file_text.close()"
      ],
      "execution_count": 0,
      "outputs": []
    },
    {
      "cell_type": "markdown",
      "metadata": {
        "id": "vKsMU4h-CiCd",
        "colab_type": "text"
      },
      "source": [
        "### Method 2 - Getting from Github"
      ]
    },
    {
      "cell_type": "markdown",
      "metadata": {
        "id": "s9PnM31jCpu7",
        "colab_type": "text"
      },
      "source": [
        "#### Downloading file from Github and reading the data"
      ]
    },
    {
      "cell_type": "code",
      "metadata": {
        "id": "ti-PQ3c0Ctu0",
        "colab_type": "code",
        "colab": {}
      },
      "source": [
        "!apt-cache search urllib\n",
        "\n",
        "import urllib\n",
        "\n",
        "with urllib.request.urlopen('https://raw.githubusercontent.com/ldaniel/Megalotropia/master/data/raw/megalotropia-experiences.txt') as response:\n",
        "   text = str(response.read(), 'utf-8')"
      ],
      "execution_count": 0,
      "outputs": []
    },
    {
      "cell_type": "markdown",
      "metadata": {
        "id": "Rgos7tj_3ALo",
        "colab_type": "text"
      },
      "source": [
        "## Step 3 - Removing stop words"
      ]
    },
    {
      "cell_type": "code",
      "metadata": {
        "id": "q6B-kk-n3Fke",
        "colab_type": "code",
        "colab": {}
      },
      "source": [
        "import nltk\n",
        "nltk.download('punkt')\n",
        "nltk.download('stopwords')\n",
        "\n",
        "from nltk.corpus import stopwords \n",
        "from nltk.tokenize import word_tokenize \n",
        "\n",
        "tokenized_text = nltk.word_tokenize(text)\n",
        "stop_words = set(stopwords.words('portuguese')) \n",
        "filtered_text = [w for w in tokenized_text if not w in stop_words] \n",
        "final_text = ' '.join([str(elem) for elem in filtered_text]) \n",
        "\n",
        "# checking the outputs\n",
        "print(stop_words)\n",
        "print(tokenized_text)\n",
        "print(filtered_text)\n",
        "print(final_text)"
      ],
      "execution_count": 0,
      "outputs": []
    },
    {
      "cell_type": "markdown",
      "metadata": {
        "id": "ZZ67ht9413Gm",
        "colab_type": "text"
      },
      "source": [
        "## Step 4 - Creating the word cloud"
      ]
    },
    {
      "cell_type": "markdown",
      "metadata": {
        "id": "7K1QsuUUE1GV",
        "colab_type": "text"
      },
      "source": [
        "### Regular word cloud"
      ]
    },
    {
      "cell_type": "code",
      "metadata": {
        "id": "ZX2i6fCm2AFJ",
        "colab_type": "code",
        "colab": {}
      },
      "source": [
        "import matplotlib.pyplot as plt\n",
        "% matplotlib inline\n",
        "\n",
        "from PIL import Image\n",
        "from wordcloud import WordCloud, STOPWORDS, ImageColorGenerator\n",
        "\n",
        "# create and generate a word cloud image\n",
        "wordcloud = WordCloud(max_font_size = 50, \n",
        "                      max_words = 200, \n",
        "                      background_color = \"white\")\n",
        "wordcloud.generate(final_text)\n",
        "\n",
        "# display the generated image\n",
        "plt.figure(figsize = [20, 10], dpi = 400)\n",
        "plt.imshow(wordcloud, interpolation = \"bilinear\")\n",
        "plt.axis(\"off\")\n",
        "plt.show()"
      ],
      "execution_count": 0,
      "outputs": []
    },
    {
      "cell_type": "markdown",
      "metadata": {
        "id": "4KUlkXJWE47a",
        "colab_type": "text"
      },
      "source": [
        "### Using mask"
      ]
    },
    {
      "cell_type": "code",
      "metadata": {
        "id": "oIIHCiPma1eS",
        "colab_type": "code",
        "colab": {}
      },
      "source": [
        "import requests\n",
        "from io import BytesIO\n",
        "\n",
        "url = \"https://raw.githubusercontent.com/ldaniel/Megalotropia/master/images/megalotropia-m.png\"\n",
        "response = requests.get(url)\n",
        "megalotropia_mask = np.array(Image.open(BytesIO(response.content)))\n",
        "\n",
        "# create and generate a word cloud image\n",
        "wordcloud = WordCloud(background_color = \"white\", \n",
        "               max_words = 500, \n",
        "               mask = megalotropia_mask, \n",
        "               contour_width = 0, \n",
        "               contour_color = 'indigo')\n",
        "wordcloud.generate(final_text)\n",
        "\n",
        "# display the generated image\n",
        "plt.figure(figsize = [20, 10], dpi = 600)\n",
        "plt.imshow(wordcloud, interpolation = 'bilinear')\n",
        "plt.axis(\"off\")\n",
        "plt.show()"
      ],
      "execution_count": 0,
      "outputs": []
    },
    {
      "cell_type": "markdown",
      "metadata": {
        "id": "gkEnSkPg_ZSi",
        "colab_type": "text"
      },
      "source": [
        "## References"
      ]
    },
    {
      "cell_type": "markdown",
      "metadata": {
        "id": "uNxl2xG8_auC",
        "colab_type": "text"
      },
      "source": [
        "- https://www.datacamp.com/community/tutorials/wordcloud-python"
      ]
    }
  ]
}